{
 "cells": [
  {
   "cell_type": "code",
   "execution_count": 3,
   "id": "ab05b277",
   "metadata": {},
   "outputs": [],
   "source": [
    "import tensorflow as tf "
   ]
  },
  {
   "cell_type": "code",
   "execution_count": 4,
   "id": "6efc2d4e",
   "metadata": {},
   "outputs": [
    {
     "name": "stdout",
     "output_type": "stream",
     "text": [
      "tensor1 [[[1. 1. 1.]\n",
      "  [1. 1. 1.]]]\n",
      ", tensor2 [[[1.]\n",
      "  [1.]\n",
      "  [1.]]\n",
      "\n",
      " [[1.]\n",
      "  [1.]\n",
      "  [1.]]]\n",
      ", tensor3 [[1. 1.]\n",
      " [1. 1.]\n",
      " [1. 1.]]\n"
     ]
    }
   ],
   "source": [
    "tensor1=tf.ones([1,2,3])\n",
    "tensor2=tf.reshape(tensor1, [2,3,1])\n",
    "tensor3=tf.reshape(tensor2, [3, -1])\n",
    "print(f\"tensor1 {tensor1}\\n, tensor2 {tensor2}\\n, tensor3 {tensor3}\")"
   ]
  }
 ],
 "metadata": {
  "kernelspec": {
   "display_name": "Python 3",
   "language": "python",
   "name": "python3"
  },
  "language_info": {
   "codemirror_mode": {
    "name": "ipython",
    "version": 3
   },
   "file_extension": ".py",
   "mimetype": "text/x-python",
   "name": "python",
   "nbconvert_exporter": "python",
   "pygments_lexer": "ipython3",
   "version": "3.10.11"
  }
 },
 "nbformat": 4,
 "nbformat_minor": 5
}
