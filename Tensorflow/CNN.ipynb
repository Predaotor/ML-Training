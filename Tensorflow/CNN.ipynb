{
 "cells": [
  {
   "cell_type": "markdown",
   "id": "b2b52965",
   "metadata": {},
   "source": [
    "Convolutional Neural Network "
   ]
  },
  {
   "cell_type": "code",
   "execution_count": 3,
   "id": "545b0580",
   "metadata": {},
   "outputs": [],
   "source": [
    "import tensorflow as tf \n",
    "import pandas as pd \n",
    "import numpy as np \n",
    "import matplotlib.pyplot as plt \n",
    "\n"
   ]
  },
  {
   "cell_type": "markdown",
   "id": "20d6fafc",
   "metadata": {},
   "source": [
    "Part 1 - Data Preprocessing "
   ]
  },
  {
   "cell_type": "code",
   "execution_count": 4,
   "id": "b5a24011",
   "metadata": {},
   "outputs": [
    {
     "name": "stdout",
     "output_type": "stream",
     "text": [
      "Found 6935 files belonging to 2 classes.\n",
      "Training dataset prepared: <_PrefetchDataset element_spec=(TensorSpec(shape=(None, 150, 150, 3), dtype=tf.float32, name=None), TensorSpec(shape=(None, 1), dtype=tf.float32, name=None))>\n"
     ]
    }
   ],
   "source": [
    "# Data augmentation pipeline (applied to image tensors)\n",
    "data_augmentation = tf.keras.Sequential([\n",
    "    tf.keras.layers.RandomFlip(\"horizontal\"),\n",
    "    tf.keras.layers.RandomRotation(0.1),\n",
    "    tf.keras.layers.RandomZoom(0.2),\n",
    "])\n",
    "\n",
    "# Helper to rescale pixel values to [0,1]\n",
    "rescale = tf.keras.layers.Rescaling(1./255)\n",
    "\n",
    "# Load dataset from directory using the proper utility\n",
    "dataset_dir = r\"C:\\Users\\ladom\\Desktop\\LLm\\data\\dataset\\training_set\"\n",
    "training_set = tf.keras.utils.image_dataset_from_directory(\n",
    "    dataset_dir,\n",
    "    labels='inferred',\n",
    "    label_mode='binary',\n",
    "    batch_size=32,\n",
    "    image_size=(150, 150),\n",
    "    shuffle=True,\n",
    "    seed=42\n",
    ")\n",
    "\n",
    "# Apply rescaling and augmentation to the dataset\n",
    "training_set = training_set.map(lambda x, y: (rescale(x), y))\n",
    "training_set = training_set.map(lambda x, y: (data_augmentation(x, training=True), y))\n",
    "\n",
    "# Prefetch for performance\n",
    "training_set = training_set.prefetch(buffer_size=tf.data.AUTOTUNE)\n",
    "\n",
    "print(\"Training dataset prepared:\", training_set)"
   ]
  },
  {
   "cell_type": "markdown",
   "id": "4b24fa58",
   "metadata": {},
   "source": [
    "preprocessing the test set "
   ]
  },
  {
   "cell_type": "code",
   "execution_count": null,
   "id": "98c62e3e",
   "metadata": {},
   "outputs": [],
   "source": []
  },
  {
   "cell_type": "code",
   "execution_count": 5,
   "id": "c4c98561",
   "metadata": {},
   "outputs": [
    {
     "name": "stdout",
     "output_type": "stream",
     "text": [
      "Found 2000 files belonging to 2 classes.\n",
      "Test dataset prepared: <_PrefetchDataset element_spec=(TensorSpec(shape=(None, 150, 150, 3), dtype=tf.float32, name=None), TensorSpec(shape=(None, 1), dtype=tf.float32, name=None))>\n"
     ]
    }
   ],
   "source": [
    "# Preprocess the test set (do NOT apply augmentation here)\n",
    "testset_dir = r\"C:\\Users\\ladom\\Desktop\\LLm\\data\\dataset\\test_set\"\n",
    "\n",
    "# Create test dataset (no augmentation, no shuffling)\n",
    "test_set = tf.keras.utils.image_dataset_from_directory(\n",
    "    testset_dir,\n",
    "    labels='inferred',\n",
    "    label_mode='binary',    # match training label_mode\n",
    "    batch_size=32,\n",
    "    image_size=(150, 150),\n",
    "    shuffle=False\n",
    ")\n",
    "\n",
    "# Apply the SAME rescaling used for training (no augmentation)\n",
    "test_set = test_set.map(lambda x, y: (rescale(x), y))\n",
    "\n",
    "# Prefetch for performance\n",
    "test_set = test_set.prefetch(buffer_size=tf.data.AUTOTUNE)\n",
    "\n",
    "print(\"Test dataset prepared:\", test_set)"
   ]
  },
  {
   "cell_type": "markdown",
   "id": "b67dec50",
   "metadata": {},
   "source": [
    "# Part 2 - Building the CNN\n",
    "step 1 Convolution \n",
    "step 2 pooling \n",
    "adding second layer\n",
    "step 3 Flattening\n",
    "step 4 Full Connection"
   ]
  },
  {
   "cell_type": "code",
   "execution_count": 17,
   "id": "c5650cb6",
   "metadata": {},
   "outputs": [],
   "source": [
    "cnn = tf.keras.models.Sequential([\n",
    "    tf.keras.layers.Conv2D(32, kernel_size=3, activation='relu', input_shape=[150, 150, 3]),\n",
    "    tf.keras.layers.MaxPool2D(pool_size=2, strides=2),\n",
    "    tf.keras.layers.Conv2D(32, kernel_size=3, activation='relu'),\n",
    "    tf.keras.layers.MaxPool2D(pool_size=2, strides=2),\n",
    "    \n",
    "    tf.keras.layers.Flatten(),\n",
    "    tf.keras.layers.Dense(units=128, activation='relu'),\n",
    "    tf.keras.layers.Dense(units=1, activation='sigmoid')  # For one-hot encoded binary labels\n",
    "])"
   ]
  },
  {
   "cell_type": "markdown",
   "id": "615d2aa4",
   "metadata": {},
   "source": [
    "# Part 3 Training the CNN"
   ]
  },
  {
   "cell_type": "code",
   "execution_count": 18,
   "id": "f6b2c2f3",
   "metadata": {},
   "outputs": [],
   "source": [
    "# Compiling the CNN\n",
    "cnn.compile(optimizer='adam', loss='binary_crossentropy', metrics=['accuracy'])"
   ]
  },
  {
   "cell_type": "code",
   "execution_count": 20,
   "id": "caa3d1c7",
   "metadata": {},
   "outputs": [
    {
     "name": "stdout",
     "output_type": "stream",
     "text": [
      "Epoch 1/25\n",
      "\u001b[1m217/217\u001b[0m \u001b[32m━━━━━━━━━━━━━━━━━━━━\u001b[0m\u001b[37m\u001b[0m \u001b[1m28s\u001b[0m 128ms/step - accuracy: 0.5882 - loss: 0.6780 - val_accuracy: 0.5730 - val_loss: 0.6713\n",
      "Epoch 2/25\n",
      "\u001b[1m217/217\u001b[0m \u001b[32m━━━━━━━━━━━━━━━━━━━━\u001b[0m\u001b[37m\u001b[0m \u001b[1m23s\u001b[0m 106ms/step - accuracy: 0.6362 - loss: 0.6467 - val_accuracy: 0.6385 - val_loss: 0.6465\n",
      "Epoch 3/25\n",
      "\u001b[1m217/217\u001b[0m \u001b[32m━━━━━━━━━━━━━━━━━━━━\u001b[0m\u001b[37m\u001b[0m \u001b[1m29s\u001b[0m 134ms/step - accuracy: 0.6567 - loss: 0.6289 - val_accuracy: 0.6765 - val_loss: 0.6225\n",
      "Epoch 4/25\n",
      "\u001b[1m217/217\u001b[0m \u001b[32m━━━━━━━━━━━━━━━━━━━━\u001b[0m\u001b[37m\u001b[0m \u001b[1m30s\u001b[0m 138ms/step - accuracy: 0.6738 - loss: 0.6032 - val_accuracy: 0.6985 - val_loss: 0.5867\n",
      "Epoch 5/25\n",
      "\u001b[1m217/217\u001b[0m \u001b[32m━━━━━━━━━━━━━━━━━━━━\u001b[0m\u001b[37m\u001b[0m \u001b[1m25s\u001b[0m 116ms/step - accuracy: 0.6986 - loss: 0.5787 - val_accuracy: 0.6980 - val_loss: 0.5851\n",
      "Epoch 6/25\n",
      "\u001b[1m217/217\u001b[0m \u001b[32m━━━━━━━━━━━━━━━━━━━━\u001b[0m\u001b[37m\u001b[0m \u001b[1m26s\u001b[0m 121ms/step - accuracy: 0.7185 - loss: 0.5605 - val_accuracy: 0.7270 - val_loss: 0.5484\n",
      "Epoch 7/25\n",
      "\u001b[1m217/217\u001b[0m \u001b[32m━━━━━━━━━━━━━━━━━━━━\u001b[0m\u001b[37m\u001b[0m \u001b[1m30s\u001b[0m 137ms/step - accuracy: 0.7246 - loss: 0.5423 - val_accuracy: 0.7430 - val_loss: 0.5376\n",
      "Epoch 8/25\n",
      "\u001b[1m217/217\u001b[0m \u001b[32m━━━━━━━━━━━━━━━━━━━━\u001b[0m\u001b[37m\u001b[0m \u001b[1m29s\u001b[0m 134ms/step - accuracy: 0.7377 - loss: 0.5286 - val_accuracy: 0.7430 - val_loss: 0.5435\n",
      "Epoch 9/25\n",
      "\u001b[1m217/217\u001b[0m \u001b[32m━━━━━━━━━━━━━━━━━━━━\u001b[0m\u001b[37m\u001b[0m \u001b[1m30s\u001b[0m 136ms/step - accuracy: 0.7384 - loss: 0.5222 - val_accuracy: 0.7455 - val_loss: 0.5310\n",
      "Epoch 10/25\n",
      "\u001b[1m217/217\u001b[0m \u001b[32m━━━━━━━━━━━━━━━━━━━━\u001b[0m\u001b[37m\u001b[0m \u001b[1m30s\u001b[0m 135ms/step - accuracy: 0.7453 - loss: 0.5201 - val_accuracy: 0.7145 - val_loss: 0.5641\n",
      "Epoch 11/25\n",
      "\u001b[1m217/217\u001b[0m \u001b[32m━━━━━━━━━━━━━━━━━━━━\u001b[0m\u001b[37m\u001b[0m \u001b[1m26s\u001b[0m 120ms/step - accuracy: 0.7511 - loss: 0.5071 - val_accuracy: 0.7545 - val_loss: 0.5207\n",
      "Epoch 12/25\n",
      "\u001b[1m217/217\u001b[0m \u001b[32m━━━━━━━━━━━━━━━━━━━━\u001b[0m\u001b[37m\u001b[0m \u001b[1m25s\u001b[0m 113ms/step - accuracy: 0.7637 - loss: 0.4908 - val_accuracy: 0.7500 - val_loss: 0.5341\n",
      "Epoch 13/25\n",
      "\u001b[1m217/217\u001b[0m \u001b[32m━━━━━━━━━━━━━━━━━━━━\u001b[0m\u001b[37m\u001b[0m \u001b[1m24s\u001b[0m 112ms/step - accuracy: 0.7716 - loss: 0.4772 - val_accuracy: 0.7660 - val_loss: 0.5059\n",
      "Epoch 14/25\n",
      "\u001b[1m217/217\u001b[0m \u001b[32m━━━━━━━━━━━━━━━━━━━━\u001b[0m\u001b[37m\u001b[0m \u001b[1m38s\u001b[0m 174ms/step - accuracy: 0.7798 - loss: 0.4720 - val_accuracy: 0.7575 - val_loss: 0.5089\n",
      "Epoch 15/25\n",
      "\u001b[1m217/217\u001b[0m \u001b[32m━━━━━━━━━━━━━━━━━━━━\u001b[0m\u001b[37m\u001b[0m \u001b[1m75s\u001b[0m 346ms/step - accuracy: 0.7808 - loss: 0.4642 - val_accuracy: 0.7595 - val_loss: 0.5422\n",
      "Epoch 16/25\n",
      "\u001b[1m217/217\u001b[0m \u001b[32m━━━━━━━━━━━━━━━━━━━━\u001b[0m\u001b[37m\u001b[0m \u001b[1m42s\u001b[0m 189ms/step - accuracy: 0.7847 - loss: 0.4649 - val_accuracy: 0.7665 - val_loss: 0.5008\n",
      "Epoch 17/25\n",
      "\u001b[1m217/217\u001b[0m \u001b[32m━━━━━━━━━━━━━━━━━━━━\u001b[0m\u001b[37m\u001b[0m \u001b[1m103s\u001b[0m 475ms/step - accuracy: 0.7831 - loss: 0.4584 - val_accuracy: 0.7740 - val_loss: 0.4967\n",
      "Epoch 18/25\n",
      "\u001b[1m217/217\u001b[0m \u001b[32m━━━━━━━━━━━━━━━━━━━━\u001b[0m\u001b[37m\u001b[0m \u001b[1m90s\u001b[0m 409ms/step - accuracy: 0.7954 - loss: 0.4448 - val_accuracy: 0.7770 - val_loss: 0.4978\n",
      "Epoch 19/25\n",
      "\u001b[1m217/217\u001b[0m \u001b[32m━━━━━━━━━━━━━━━━━━━━\u001b[0m\u001b[37m\u001b[0m \u001b[1m155s\u001b[0m 715ms/step - accuracy: 0.8003 - loss: 0.4351 - val_accuracy: 0.7940 - val_loss: 0.4782\n",
      "Epoch 20/25\n",
      "\u001b[1m217/217\u001b[0m \u001b[32m━━━━━━━━━━━━━━━━━━━━\u001b[0m\u001b[37m\u001b[0m \u001b[1m141s\u001b[0m 647ms/step - accuracy: 0.7967 - loss: 0.4393 - val_accuracy: 0.7905 - val_loss: 0.5041\n",
      "Epoch 21/25\n",
      "\u001b[1m217/217\u001b[0m \u001b[32m━━━━━━━━━━━━━━━━━━━━\u001b[0m\u001b[37m\u001b[0m \u001b[1m138s\u001b[0m 635ms/step - accuracy: 0.8055 - loss: 0.4199 - val_accuracy: 0.7885 - val_loss: 0.5026\n",
      "Epoch 22/25\n",
      "\u001b[1m217/217\u001b[0m \u001b[32m━━━━━━━━━━━━━━━━━━━━\u001b[0m\u001b[37m\u001b[0m \u001b[1m142s\u001b[0m 635ms/step - accuracy: 0.8029 - loss: 0.4241 - val_accuracy: 0.7915 - val_loss: 0.5056\n",
      "Epoch 23/25\n",
      "\u001b[1m217/217\u001b[0m \u001b[32m━━━━━━━━━━━━━━━━━━━━\u001b[0m\u001b[37m\u001b[0m \u001b[1m140s\u001b[0m 623ms/step - accuracy: 0.8092 - loss: 0.4187 - val_accuracy: 0.7890 - val_loss: 0.4787\n",
      "Epoch 24/25\n",
      "\u001b[1m217/217\u001b[0m \u001b[32m━━━━━━━━━━━━━━━━━━━━\u001b[0m\u001b[37m\u001b[0m \u001b[1m144s\u001b[0m 634ms/step - accuracy: 0.8056 - loss: 0.4173 - val_accuracy: 0.7930 - val_loss: 0.4825\n",
      "Epoch 25/25\n",
      "\u001b[1m217/217\u001b[0m \u001b[32m━━━━━━━━━━━━━━━━━━━━\u001b[0m\u001b[37m\u001b[0m \u001b[1m147s\u001b[0m 653ms/step - accuracy: 0.8161 - loss: 0.4050 - val_accuracy: 0.7905 - val_loss: 0.4951\n"
     ]
    },
    {
     "data": {
      "text/plain": [
       "<keras.src.callbacks.history.History at 0x1ca754ed760>"
      ]
     },
     "execution_count": 20,
     "metadata": {},
     "output_type": "execute_result"
    }
   ],
   "source": [
    "# Training the CNN on the Training and evaluating it on the Test set \n",
    "cnn.fit(x=training_set, validation_data=test_set, epochs=25)"
   ]
  },
  {
   "cell_type": "markdown",
   "id": "c46fdb86",
   "metadata": {},
   "source": [
    "# Part 4 Making a single prediction "
   ]
  },
  {
   "cell_type": "code",
   "execution_count": 22,
   "id": "d9c736c3",
   "metadata": {},
   "outputs": [
    {
     "name": "stdout",
     "output_type": "stream",
     "text": [
      "\u001b[1m1/1\u001b[0m \u001b[32m━━━━━━━━━━━━━━━━━━━━\u001b[0m\u001b[37m\u001b[0m \u001b[1m0s\u001b[0m 49ms/step\n",
      "dog\n"
     ]
    }
   ],
   "source": [
    "from keras.preprocessing import image \n",
    "test_image=image.load_img(r'C:\\Users\\ladom\\Desktop\\LLm\\data\\dataset\\single_prediction\\cat_or_dog_1.jpg', target_size=(150,150))\n",
    "test_image=image.img_to_array(test_image) \n",
    "test_image=np.expand_dims(test_image, axis=0) \n",
    "result=cnn.predict(test_image) \n",
    "if result[0][0]>0.5:\n",
    "    prediction=\"dog\"\n",
    "else:\n",
    "    prediction=\"cat\" \n",
    "print(prediction)"
   ]
  }
 ],
 "metadata": {
  "kernelspec": {
   "display_name": "Python 3",
   "language": "python",
   "name": "python3"
  },
  "language_info": {
   "codemirror_mode": {
    "name": "ipython",
    "version": 3
   },
   "file_extension": ".py",
   "mimetype": "text/x-python",
   "name": "python",
   "nbconvert_exporter": "python",
   "pygments_lexer": "ipython3",
   "version": "3.12.10"
  }
 },
 "nbformat": 4,
 "nbformat_minor": 5
}
